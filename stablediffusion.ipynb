{
 "cells": [
  {
   "cell_type": "markdown",
   "metadata": {},
   "source": [
    "資料增強"
   ]
  },
  {
   "cell_type": "code",
   "execution_count": null,
   "metadata": {},
   "outputs": [
    {
     "name": "stderr",
     "output_type": "stream",
     "text": [
      "2025-01-29 03:34:07,792 - INFO - Found 400 PNG files to process\n",
      "2025-01-29 03:34:07,793 - INFO - Processing image 1/400: /home/anywhere3090l/Desktop/compalmtk/Dynamic-noise-AD-master/dataset/btad/one/train/good/0294.png\n"
     ]
    },
    {
     "data": {
      "application/vnd.jupyter.widget-view+json": {
       "model_id": "312b47cbca1a4305a5ee3604861ac152",
       "version_major": 2,
       "version_minor": 0
      },
      "text/plain": [
       "Loading pipeline components...:   0%|          | 0/6 [00:00<?, ?it/s]"
      ]
     },
     "metadata": {},
     "output_type": "display_data"
    },
    {
     "data": {
      "application/vnd.jupyter.widget-view+json": {
       "model_id": "711c43f86f454fffadd8d7ebd060d22a",
       "version_major": 2,
       "version_minor": 0
      },
      "text/plain": [
       "  0%|          | 0/20 [00:00<?, ?it/s]"
      ]
     },
     "metadata": {},
     "output_type": "display_data"
    },
    {
     "data": {
      "application/vnd.jupyter.widget-view+json": {
       "model_id": "5dabf1281788448f8544ba2d8afc61b3",
       "version_major": 2,
       "version_minor": 0
      },
      "text/plain": [
       "  0%|          | 0/20 [00:00<?, ?it/s]"
      ]
     },
     "metadata": {},
     "output_type": "display_data"
    },
    {
     "data": {
      "application/vnd.jupyter.widget-view+json": {
       "model_id": "4452cc3b385a404392bdcce0db8bf688",
       "version_major": 2,
       "version_minor": 0
      },
      "text/plain": [
       "  0%|          | 0/20 [00:00<?, ?it/s]"
      ]
     },
     "metadata": {},
     "output_type": "display_data"
    },
    {
     "data": {
      "application/vnd.jupyter.widget-view+json": {
       "model_id": "08e5d032b35246e6a3c650fa32d5520d",
       "version_major": 2,
       "version_minor": 0
      },
      "text/plain": [
       "Loading pipeline components...:   0%|          | 0/6 [00:00<?, ?it/s]"
      ]
     },
     "metadata": {},
     "output_type": "display_data"
    },
    {
     "name": "stderr",
     "output_type": "stream",
     "text": [
      "You have disabled the safety checker for <class 'diffusers.pipelines.stable_diffusion.pipeline_stable_diffusion_img2img.StableDiffusionImg2ImgPipeline'> by passing `safety_checker=None`. Ensure that you abide to the conditions of the Stable Diffusion license and do not expose unfiltered results in services or applications open to the public. Both the diffusers team and Hugging Face strongly recommend to keep the safety filter enabled in all public facing circumstances, disabling it only for use-cases that involve analyzing network behavior or auditing its results. For more information, please have a look at https://github.com/huggingface/diffusers/pull/254 .\n"
     ]
    },
    {
     "data": {
      "application/vnd.jupyter.widget-view+json": {
       "model_id": "157f18a6b45648bd8837d7dd081bce7c",
       "version_major": 2,
       "version_minor": 0
      },
      "text/plain": [
       "  0%|          | 0/9 [00:00<?, ?it/s]"
      ]
     },
     "metadata": {},
     "output_type": "display_data"
    },
    {
     "data": {
      "application/vnd.jupyter.widget-view+json": {
       "model_id": "e6e497ad9c0646c1bb11f7aee8fd4e87",
       "version_major": 2,
       "version_minor": 0
      },
      "text/plain": [
       "  0%|          | 0/20 [00:00<?, ?it/s]"
      ]
     },
     "metadata": {},
     "output_type": "display_data"
    },
    {
     "name": "stderr",
     "output_type": "stream",
     "text": [
      "2025-01-29 03:35:56,547 - INFO - Successfully processed: /home/anywhere3090l/Desktop/compalmtk/Dynamic-noise-AD-master/dataset/btad/one/train/good/0294.png\n",
      "2025-01-29 03:35:56,789 - INFO - Processing image 2/400: /home/anywhere3090l/Desktop/compalmtk/Dynamic-noise-AD-master/dataset/btad/one/train/good/0394.png\n"
     ]
    },
    {
     "data": {
      "application/vnd.jupyter.widget-view+json": {
       "model_id": "e6affa679b1548c28644e1b084164aeb",
       "version_major": 2,
       "version_minor": 0
      },
      "text/plain": [
       "  0%|          | 0/20 [00:00<?, ?it/s]"
      ]
     },
     "metadata": {},
     "output_type": "display_data"
    },
    {
     "data": {
      "application/vnd.jupyter.widget-view+json": {
       "model_id": "bb3e5c81757f4af8a4c7f8967bdc86fa",
       "version_major": 2,
       "version_minor": 0
      },
      "text/plain": [
       "  0%|          | 0/20 [00:00<?, ?it/s]"
      ]
     },
     "metadata": {},
     "output_type": "display_data"
    },
    {
     "data": {
      "application/vnd.jupyter.widget-view+json": {
       "model_id": "fc87b5206a234fc9b8897021544bea61",
       "version_major": 2,
       "version_minor": 0
      },
      "text/plain": [
       "  0%|          | 0/20 [00:00<?, ?it/s]"
      ]
     },
     "metadata": {},
     "output_type": "display_data"
    },
    {
     "data": {
      "application/vnd.jupyter.widget-view+json": {
       "model_id": "3d2d65f095224b519f90aff14a36ed9f",
       "version_major": 2,
       "version_minor": 0
      },
      "text/plain": [
       "  0%|          | 0/9 [00:00<?, ?it/s]"
      ]
     },
     "metadata": {},
     "output_type": "display_data"
    },
    {
     "data": {
      "application/vnd.jupyter.widget-view+json": {
       "model_id": "f9f46f6e60dd402d8707e18656f981cc",
       "version_major": 2,
       "version_minor": 0
      },
      "text/plain": [
       "  0%|          | 0/20 [00:00<?, ?it/s]"
      ]
     },
     "metadata": {},
     "output_type": "display_data"
    },
    {
     "name": "stderr",
     "output_type": "stream",
     "text": [
      "2025-01-29 03:37:44,647 - INFO - Successfully processed: /home/anywhere3090l/Desktop/compalmtk/Dynamic-noise-AD-master/dataset/btad/one/train/good/0394.png\n",
      "2025-01-29 03:37:44,889 - INFO - Processing image 3/400: /home/anywhere3090l/Desktop/compalmtk/Dynamic-noise-AD-master/dataset/btad/one/train/good/0292.png\n"
     ]
    },
    {
     "data": {
      "application/vnd.jupyter.widget-view+json": {
       "model_id": "76810f4c6ac84b548aca271478698a4e",
       "version_major": 2,
       "version_minor": 0
      },
      "text/plain": [
       "  0%|          | 0/20 [00:00<?, ?it/s]"
      ]
     },
     "metadata": {},
     "output_type": "display_data"
    },
    {
     "data": {
      "application/vnd.jupyter.widget-view+json": {
       "model_id": "8c3b1297260d40458eea44e5cbb5f5ab",
       "version_major": 2,
       "version_minor": 0
      },
      "text/plain": [
       "  0%|          | 0/20 [00:00<?, ?it/s]"
      ]
     },
     "metadata": {},
     "output_type": "display_data"
    },
    {
     "data": {
      "application/vnd.jupyter.widget-view+json": {
       "model_id": "0d9944a103cb47ebbedb9127f566c56c",
       "version_major": 2,
       "version_minor": 0
      },
      "text/plain": [
       "  0%|          | 0/20 [00:00<?, ?it/s]"
      ]
     },
     "metadata": {},
     "output_type": "display_data"
    },
    {
     "data": {
      "application/vnd.jupyter.widget-view+json": {
       "model_id": "ce2768a795bc4cd69a5b05c5e5af4f04",
       "version_major": 2,
       "version_minor": 0
      },
      "text/plain": [
       "  0%|          | 0/9 [00:00<?, ?it/s]"
      ]
     },
     "metadata": {},
     "output_type": "display_data"
    },
    {
     "data": {
      "application/vnd.jupyter.widget-view+json": {
       "model_id": "cd4577d5b37e491381303275a8dfdfa3",
       "version_major": 2,
       "version_minor": 0
      },
      "text/plain": [
       "  0%|          | 0/20 [00:00<?, ?it/s]"
      ]
     },
     "metadata": {},
     "output_type": "display_data"
    },
    {
     "name": "stderr",
     "output_type": "stream",
     "text": [
      "2025-01-29 03:39:36,718 - INFO - Successfully processed: /home/anywhere3090l/Desktop/compalmtk/Dynamic-noise-AD-master/dataset/btad/one/train/good/0292.png\n",
      "2025-01-29 03:39:36,961 - INFO - Processing image 4/400: /home/anywhere3090l/Desktop/compalmtk/Dynamic-noise-AD-master/dataset/btad/one/train/good/0060.png\n"
     ]
    },
    {
     "data": {
      "application/vnd.jupyter.widget-view+json": {
       "model_id": "fb7ce6e4e03f46f3aa5a422d9fffcd6e",
       "version_major": 2,
       "version_minor": 0
      },
      "text/plain": [
       "  0%|          | 0/20 [00:00<?, ?it/s]"
      ]
     },
     "metadata": {},
     "output_type": "display_data"
    },
    {
     "data": {
      "application/vnd.jupyter.widget-view+json": {
       "model_id": "5f03338f826742f2a88d9f9a60219d08",
       "version_major": 2,
       "version_minor": 0
      },
      "text/plain": [
       "  0%|          | 0/20 [00:00<?, ?it/s]"
      ]
     },
     "metadata": {},
     "output_type": "display_data"
    },
    {
     "data": {
      "application/vnd.jupyter.widget-view+json": {
       "model_id": "9da16a4c14784e6d81035bb604215a1a",
       "version_major": 2,
       "version_minor": 0
      },
      "text/plain": [
       "  0%|          | 0/20 [00:00<?, ?it/s]"
      ]
     },
     "metadata": {},
     "output_type": "display_data"
    },
    {
     "data": {
      "application/vnd.jupyter.widget-view+json": {
       "model_id": "deee0504c3944cd0b37dcde632d92362",
       "version_major": 2,
       "version_minor": 0
      },
      "text/plain": [
       "  0%|          | 0/9 [00:00<?, ?it/s]"
      ]
     },
     "metadata": {},
     "output_type": "display_data"
    },
    {
     "data": {
      "application/vnd.jupyter.widget-view+json": {
       "model_id": "b11a14c31bcf4af5aa43ac93484851e6",
       "version_major": 2,
       "version_minor": 0
      },
      "text/plain": [
       "  0%|          | 0/20 [00:00<?, ?it/s]"
      ]
     },
     "metadata": {},
     "output_type": "display_data"
    },
    {
     "name": "stderr",
     "output_type": "stream",
     "text": [
      "2025-01-29 03:41:32,596 - INFO - Successfully processed: /home/anywhere3090l/Desktop/compalmtk/Dynamic-noise-AD-master/dataset/btad/one/train/good/0060.png\n",
      "2025-01-29 03:41:32,835 - INFO - Processing image 5/400: /home/anywhere3090l/Desktop/compalmtk/Dynamic-noise-AD-master/dataset/btad/one/train/good/0259.png\n"
     ]
    },
    {
     "data": {
      "application/vnd.jupyter.widget-view+json": {
       "model_id": "0a691aa39ccc4bb9b6c8d7aac2945e68",
       "version_major": 2,
       "version_minor": 0
      },
      "text/plain": [
       "  0%|          | 0/20 [00:00<?, ?it/s]"
      ]
     },
     "metadata": {},
     "output_type": "display_data"
    },
    {
     "data": {
      "application/vnd.jupyter.widget-view+json": {
       "model_id": "d60e2e37cce247739649e366ea439a10",
       "version_major": 2,
       "version_minor": 0
      },
      "text/plain": [
       "  0%|          | 0/20 [00:00<?, ?it/s]"
      ]
     },
     "metadata": {},
     "output_type": "display_data"
    },
    {
     "data": {
      "application/vnd.jupyter.widget-view+json": {
       "model_id": "4b34d07ce594491187049ec539a4f027",
       "version_major": 2,
       "version_minor": 0
      },
      "text/plain": [
       "  0%|          | 0/20 [00:00<?, ?it/s]"
      ]
     },
     "metadata": {},
     "output_type": "display_data"
    },
    {
     "data": {
      "application/vnd.jupyter.widget-view+json": {
       "model_id": "38442807199848098d316e6424871b32",
       "version_major": 2,
       "version_minor": 0
      },
      "text/plain": [
       "  0%|          | 0/9 [00:00<?, ?it/s]"
      ]
     },
     "metadata": {},
     "output_type": "display_data"
    },
    {
     "data": {
      "application/vnd.jupyter.widget-view+json": {
       "model_id": "76a6f77cd2ff48f4a95c0a01abe46da9",
       "version_major": 2,
       "version_minor": 0
      },
      "text/plain": [
       "  0%|          | 0/20 [00:00<?, ?it/s]"
      ]
     },
     "metadata": {},
     "output_type": "display_data"
    },
    {
     "name": "stderr",
     "output_type": "stream",
     "text": [
      "2025-01-29 03:43:31,354 - INFO - Successfully processed: /home/anywhere3090l/Desktop/compalmtk/Dynamic-noise-AD-master/dataset/btad/one/train/good/0259.png\n",
      "2025-01-29 03:43:31,590 - INFO - Processing image 6/400: /home/anywhere3090l/Desktop/compalmtk/Dynamic-noise-AD-master/dataset/btad/one/train/good/0038.png\n"
     ]
    },
    {
     "data": {
      "application/vnd.jupyter.widget-view+json": {
       "model_id": "67f92d850f30423491db0c9b656a4a17",
       "version_major": 2,
       "version_minor": 0
      },
      "text/plain": [
       "  0%|          | 0/20 [00:00<?, ?it/s]"
      ]
     },
     "metadata": {},
     "output_type": "display_data"
    },
    {
     "data": {
      "application/vnd.jupyter.widget-view+json": {
       "model_id": "147b97ef63344556976218c70bc71e94",
       "version_major": 2,
       "version_minor": 0
      },
      "text/plain": [
       "  0%|          | 0/20 [00:00<?, ?it/s]"
      ]
     },
     "metadata": {},
     "output_type": "display_data"
    },
    {
     "data": {
      "application/vnd.jupyter.widget-view+json": {
       "model_id": "6a14fe431cfe4649a4c359b09b5898b7",
       "version_major": 2,
       "version_minor": 0
      },
      "text/plain": [
       "  0%|          | 0/20 [00:00<?, ?it/s]"
      ]
     },
     "metadata": {},
     "output_type": "display_data"
    },
    {
     "data": {
      "application/vnd.jupyter.widget-view+json": {
       "model_id": "04767db1ceb44a0c8dd8bdc12f6fea88",
       "version_major": 2,
       "version_minor": 0
      },
      "text/plain": [
       "  0%|          | 0/9 [00:00<?, ?it/s]"
      ]
     },
     "metadata": {},
     "output_type": "display_data"
    },
    {
     "data": {
      "application/vnd.jupyter.widget-view+json": {
       "model_id": "3b36f5a92abd497da9f374b964419e24",
       "version_major": 2,
       "version_minor": 0
      },
      "text/plain": [
       "  0%|          | 0/20 [00:00<?, ?it/s]"
      ]
     },
     "metadata": {},
     "output_type": "display_data"
    },
    {
     "name": "stderr",
     "output_type": "stream",
     "text": [
      "2025-01-29 03:45:31,697 - INFO - Successfully processed: /home/anywhere3090l/Desktop/compalmtk/Dynamic-noise-AD-master/dataset/btad/one/train/good/0038.png\n",
      "2025-01-29 03:45:31,944 - INFO - Processing image 7/400: /home/anywhere3090l/Desktop/compalmtk/Dynamic-noise-AD-master/dataset/btad/one/train/good/0046.png\n"
     ]
    },
    {
     "data": {
      "application/vnd.jupyter.widget-view+json": {
       "model_id": "ad1c352e15394a5ca3ad7789b39b3dc4",
       "version_major": 2,
       "version_minor": 0
      },
      "text/plain": [
       "  0%|          | 0/20 [00:00<?, ?it/s]"
      ]
     },
     "metadata": {},
     "output_type": "display_data"
    },
    {
     "data": {
      "application/vnd.jupyter.widget-view+json": {
       "model_id": "e74ef9e92e0040b085f00568386076e6",
       "version_major": 2,
       "version_minor": 0
      },
      "text/plain": [
       "  0%|          | 0/20 [00:00<?, ?it/s]"
      ]
     },
     "metadata": {},
     "output_type": "display_data"
    },
    {
     "data": {
      "application/vnd.jupyter.widget-view+json": {
       "model_id": "390e4f02b2be4380b2ec8c0bd5287500",
       "version_major": 2,
       "version_minor": 0
      },
      "text/plain": [
       "  0%|          | 0/20 [00:00<?, ?it/s]"
      ]
     },
     "metadata": {},
     "output_type": "display_data"
    },
    {
     "data": {
      "application/vnd.jupyter.widget-view+json": {
       "model_id": "6497e6e3834a4eb99337b55feffbe552",
       "version_major": 2,
       "version_minor": 0
      },
      "text/plain": [
       "  0%|          | 0/9 [00:00<?, ?it/s]"
      ]
     },
     "metadata": {},
     "output_type": "display_data"
    },
    {
     "data": {
      "application/vnd.jupyter.widget-view+json": {
       "model_id": "a5a6d343d15d44db83719416bc0901b9",
       "version_major": 2,
       "version_minor": 0
      },
      "text/plain": [
       "  0%|          | 0/20 [00:00<?, ?it/s]"
      ]
     },
     "metadata": {},
     "output_type": "display_data"
    },
    {
     "name": "stderr",
     "output_type": "stream",
     "text": [
      "2025-01-29 03:47:33,770 - INFO - Successfully processed: /home/anywhere3090l/Desktop/compalmtk/Dynamic-noise-AD-master/dataset/btad/one/train/good/0046.png\n",
      "2025-01-29 03:47:34,016 - INFO - Processing image 8/400: /home/anywhere3090l/Desktop/compalmtk/Dynamic-noise-AD-master/dataset/btad/one/train/good/0213.png\n"
     ]
    },
    {
     "data": {
      "application/vnd.jupyter.widget-view+json": {
       "model_id": "e45763ebc31b465794b78f642a7d4579",
       "version_major": 2,
       "version_minor": 0
      },
      "text/plain": [
       "  0%|          | 0/20 [00:00<?, ?it/s]"
      ]
     },
     "metadata": {},
     "output_type": "display_data"
    },
    {
     "data": {
      "application/vnd.jupyter.widget-view+json": {
       "model_id": "7616b988352d4f5b94692af491ad0558",
       "version_major": 2,
       "version_minor": 0
      },
      "text/plain": [
       "  0%|          | 0/20 [00:00<?, ?it/s]"
      ]
     },
     "metadata": {},
     "output_type": "display_data"
    },
    {
     "data": {
      "application/vnd.jupyter.widget-view+json": {
       "model_id": "7190af3dbbed439080ed0771f88b7c9d",
       "version_major": 2,
       "version_minor": 0
      },
      "text/plain": [
       "  0%|          | 0/20 [00:00<?, ?it/s]"
      ]
     },
     "metadata": {},
     "output_type": "display_data"
    },
    {
     "data": {
      "application/vnd.jupyter.widget-view+json": {
       "model_id": "fa5ed0567f7e41859f6f517ceb8394f4",
       "version_major": 2,
       "version_minor": 0
      },
      "text/plain": [
       "  0%|          | 0/9 [00:00<?, ?it/s]"
      ]
     },
     "metadata": {},
     "output_type": "display_data"
    },
    {
     "data": {
      "application/vnd.jupyter.widget-view+json": {
       "model_id": "8381c62ef67b41f2b964487f00527445",
       "version_major": 2,
       "version_minor": 0
      },
      "text/plain": [
       "  0%|          | 0/20 [00:00<?, ?it/s]"
      ]
     },
     "metadata": {},
     "output_type": "display_data"
    },
    {
     "name": "stderr",
     "output_type": "stream",
     "text": [
      "2025-01-29 03:49:37,443 - INFO - Successfully processed: /home/anywhere3090l/Desktop/compalmtk/Dynamic-noise-AD-master/dataset/btad/one/train/good/0213.png\n",
      "2025-01-29 03:49:37,684 - INFO - Processing image 9/400: /home/anywhere3090l/Desktop/compalmtk/Dynamic-noise-AD-master/dataset/btad/one/train/good/0113.png\n"
     ]
    },
    {
     "data": {
      "application/vnd.jupyter.widget-view+json": {
       "model_id": "f758afe775444e718148084a97d021bb",
       "version_major": 2,
       "version_minor": 0
      },
      "text/plain": [
       "  0%|          | 0/20 [00:00<?, ?it/s]"
      ]
     },
     "metadata": {},
     "output_type": "display_data"
    },
    {
     "data": {
      "application/vnd.jupyter.widget-view+json": {
       "model_id": "e344fbdf198d42c3a9e4737a7d179e84",
       "version_major": 2,
       "version_minor": 0
      },
      "text/plain": [
       "  0%|          | 0/20 [00:00<?, ?it/s]"
      ]
     },
     "metadata": {},
     "output_type": "display_data"
    },
    {
     "data": {
      "application/vnd.jupyter.widget-view+json": {
       "model_id": "8c122b39bc03434fa4867815eb15f089",
       "version_major": 2,
       "version_minor": 0
      },
      "text/plain": [
       "  0%|          | 0/20 [00:00<?, ?it/s]"
      ]
     },
     "metadata": {},
     "output_type": "display_data"
    },
    {
     "data": {
      "application/vnd.jupyter.widget-view+json": {
       "model_id": "e4008460b88045d3a2b96acbc96796ad",
       "version_major": 2,
       "version_minor": 0
      },
      "text/plain": [
       "  0%|          | 0/9 [00:00<?, ?it/s]"
      ]
     },
     "metadata": {},
     "output_type": "display_data"
    },
    {
     "data": {
      "application/vnd.jupyter.widget-view+json": {
       "model_id": "36b978a0e4a747efb4a1a41483adadcb",
       "version_major": 2,
       "version_minor": 0
      },
      "text/plain": [
       "  0%|          | 0/20 [00:00<?, ?it/s]"
      ]
     },
     "metadata": {},
     "output_type": "display_data"
    },
    {
     "name": "stderr",
     "output_type": "stream",
     "text": [
      "2025-01-29 03:51:41,648 - INFO - Successfully processed: /home/anywhere3090l/Desktop/compalmtk/Dynamic-noise-AD-master/dataset/btad/one/train/good/0113.png\n",
      "2025-01-29 03:51:41,886 - INFO - Processing image 10/400: /home/anywhere3090l/Desktop/compalmtk/Dynamic-noise-AD-master/dataset/btad/one/train/good/0107.png\n"
     ]
    },
    {
     "data": {
      "application/vnd.jupyter.widget-view+json": {
       "model_id": "86fc621f34004379be2b859148cd3a0c",
       "version_major": 2,
       "version_minor": 0
      },
      "text/plain": [
       "  0%|          | 0/20 [00:00<?, ?it/s]"
      ]
     },
     "metadata": {},
     "output_type": "display_data"
    },
    {
     "data": {
      "application/vnd.jupyter.widget-view+json": {
       "model_id": "99b574b615154374a447e8db7a8ec9be",
       "version_major": 2,
       "version_minor": 0
      },
      "text/plain": [
       "  0%|          | 0/20 [00:00<?, ?it/s]"
      ]
     },
     "metadata": {},
     "output_type": "display_data"
    },
    {
     "data": {
      "application/vnd.jupyter.widget-view+json": {
       "model_id": "f148b61ee8e54f1da00a9d07c478362e",
       "version_major": 2,
       "version_minor": 0
      },
      "text/plain": [
       "  0%|          | 0/20 [00:00<?, ?it/s]"
      ]
     },
     "metadata": {},
     "output_type": "display_data"
    },
    {
     "data": {
      "application/vnd.jupyter.widget-view+json": {
       "model_id": "c2a891c9f0e14157a110b7b91d3d5167",
       "version_major": 2,
       "version_minor": 0
      },
      "text/plain": [
       "  0%|          | 0/9 [00:00<?, ?it/s]"
      ]
     },
     "metadata": {},
     "output_type": "display_data"
    },
    {
     "data": {
      "application/vnd.jupyter.widget-view+json": {
       "model_id": "a7e74ac504c543a29208dc266db7eaf2",
       "version_major": 2,
       "version_minor": 0
      },
      "text/plain": [
       "  0%|          | 0/20 [00:00<?, ?it/s]"
      ]
     },
     "metadata": {},
     "output_type": "display_data"
    },
    {
     "name": "stderr",
     "output_type": "stream",
     "text": [
      "2025-01-29 03:53:45,156 - INFO - Successfully processed: /home/anywhere3090l/Desktop/compalmtk/Dynamic-noise-AD-master/dataset/btad/one/train/good/0107.png\n",
      "2025-01-29 03:53:45,401 - INFO - Processing image 11/400: /home/anywhere3090l/Desktop/compalmtk/Dynamic-noise-AD-master/dataset/btad/one/train/good/0012.png\n"
     ]
    },
    {
     "data": {
      "application/vnd.jupyter.widget-view+json": {
       "model_id": "d73cc3282063498cb5289920c91d781d",
       "version_major": 2,
       "version_minor": 0
      },
      "text/plain": [
       "  0%|          | 0/20 [00:00<?, ?it/s]"
      ]
     },
     "metadata": {},
     "output_type": "display_data"
    },
    {
     "data": {
      "application/vnd.jupyter.widget-view+json": {
       "model_id": "4817593ff06447fb9537cefefe74b1f8",
       "version_major": 2,
       "version_minor": 0
      },
      "text/plain": [
       "  0%|          | 0/20 [00:00<?, ?it/s]"
      ]
     },
     "metadata": {},
     "output_type": "display_data"
    },
    {
     "data": {
      "application/vnd.jupyter.widget-view+json": {
       "model_id": "17269683f3ab45a8a9a1a4375b4b60a9",
       "version_major": 2,
       "version_minor": 0
      },
      "text/plain": [
       "  0%|          | 0/20 [00:00<?, ?it/s]"
      ]
     },
     "metadata": {},
     "output_type": "display_data"
    },
    {
     "data": {
      "application/vnd.jupyter.widget-view+json": {
       "model_id": "15a76b2059af44209f43b6dfa52786cf",
       "version_major": 2,
       "version_minor": 0
      },
      "text/plain": [
       "  0%|          | 0/9 [00:00<?, ?it/s]"
      ]
     },
     "metadata": {},
     "output_type": "display_data"
    },
    {
     "data": {
      "application/vnd.jupyter.widget-view+json": {
       "model_id": "664a2eb4905b467fbebf12ce345064d6",
       "version_major": 2,
       "version_minor": 0
      },
      "text/plain": [
       "  0%|          | 0/20 [00:00<?, ?it/s]"
      ]
     },
     "metadata": {},
     "output_type": "display_data"
    },
    {
     "name": "stderr",
     "output_type": "stream",
     "text": [
      "2025-01-29 03:55:49,642 - INFO - Successfully processed: /home/anywhere3090l/Desktop/compalmtk/Dynamic-noise-AD-master/dataset/btad/one/train/good/0012.png\n",
      "2025-01-29 03:55:49,898 - INFO - Processing image 12/400: /home/anywhere3090l/Desktop/compalmtk/Dynamic-noise-AD-master/dataset/btad/one/train/good/0276.png\n"
     ]
    },
    {
     "data": {
      "application/vnd.jupyter.widget-view+json": {
       "model_id": "ae977398624e4971b891ad49d20bb83b",
       "version_major": 2,
       "version_minor": 0
      },
      "text/plain": [
       "  0%|          | 0/20 [00:00<?, ?it/s]"
      ]
     },
     "metadata": {},
     "output_type": "display_data"
    },
    {
     "data": {
      "application/vnd.jupyter.widget-view+json": {
       "model_id": "6c8b3db2139b4fa28125a79a26cfcc72",
       "version_major": 2,
       "version_minor": 0
      },
      "text/plain": [
       "  0%|          | 0/20 [00:00<?, ?it/s]"
      ]
     },
     "metadata": {},
     "output_type": "display_data"
    },
    {
     "data": {
      "application/vnd.jupyter.widget-view+json": {
       "model_id": "7f502b5cf25f448d913b79a2f07a2351",
       "version_major": 2,
       "version_minor": 0
      },
      "text/plain": [
       "  0%|          | 0/20 [00:00<?, ?it/s]"
      ]
     },
     "metadata": {},
     "output_type": "display_data"
    },
    {
     "data": {
      "application/vnd.jupyter.widget-view+json": {
       "model_id": "2118571d1f384af39ff96eaf4bdd0427",
       "version_major": 2,
       "version_minor": 0
      },
      "text/plain": [
       "  0%|          | 0/9 [00:00<?, ?it/s]"
      ]
     },
     "metadata": {},
     "output_type": "display_data"
    },
    {
     "data": {
      "application/vnd.jupyter.widget-view+json": {
       "model_id": "977084a601a04f82a8df1b430438da2a",
       "version_major": 2,
       "version_minor": 0
      },
      "text/plain": [
       "  0%|          | 0/20 [00:00<?, ?it/s]"
      ]
     },
     "metadata": {},
     "output_type": "display_data"
    },
    {
     "name": "stderr",
     "output_type": "stream",
     "text": [
      "2025-01-29 03:57:54,493 - INFO - Successfully processed: /home/anywhere3090l/Desktop/compalmtk/Dynamic-noise-AD-master/dataset/btad/one/train/good/0276.png\n",
      "2025-01-29 03:57:54,741 - INFO - Processing image 13/400: /home/anywhere3090l/Desktop/compalmtk/Dynamic-noise-AD-master/dataset/btad/one/train/good/0217.png\n"
     ]
    },
    {
     "data": {
      "application/vnd.jupyter.widget-view+json": {
       "model_id": "98fe7bec010c4290b00621b78aee634b",
       "version_major": 2,
       "version_minor": 0
      },
      "text/plain": [
       "  0%|          | 0/20 [00:00<?, ?it/s]"
      ]
     },
     "metadata": {},
     "output_type": "display_data"
    },
    {
     "data": {
      "application/vnd.jupyter.widget-view+json": {
       "model_id": "e0dd1b75d0be48ceb1663304c1dbb962",
       "version_major": 2,
       "version_minor": 0
      },
      "text/plain": [
       "  0%|          | 0/20 [00:00<?, ?it/s]"
      ]
     },
     "metadata": {},
     "output_type": "display_data"
    },
    {
     "data": {
      "application/vnd.jupyter.widget-view+json": {
       "model_id": "c7bbc556b0ee44628a5b419178c1dbcb",
       "version_major": 2,
       "version_minor": 0
      },
      "text/plain": [
       "  0%|          | 0/20 [00:00<?, ?it/s]"
      ]
     },
     "metadata": {},
     "output_type": "display_data"
    },
    {
     "data": {
      "application/vnd.jupyter.widget-view+json": {
       "model_id": "70e038ef3b2f40e5b09580506e89b775",
       "version_major": 2,
       "version_minor": 0
      },
      "text/plain": [
       "  0%|          | 0/9 [00:00<?, ?it/s]"
      ]
     },
     "metadata": {},
     "output_type": "display_data"
    },
    {
     "data": {
      "application/vnd.jupyter.widget-view+json": {
       "model_id": "daf8800bd7214ff2bff359583cf630f2",
       "version_major": 2,
       "version_minor": 0
      },
      "text/plain": [
       "  0%|          | 0/20 [00:00<?, ?it/s]"
      ]
     },
     "metadata": {},
     "output_type": "display_data"
    },
    {
     "name": "stderr",
     "output_type": "stream",
     "text": [
      "2025-01-29 03:59:58,495 - INFO - Successfully processed: /home/anywhere3090l/Desktop/compalmtk/Dynamic-noise-AD-master/dataset/btad/one/train/good/0217.png\n",
      "2025-01-29 03:59:58,745 - INFO - Processing image 14/400: /home/anywhere3090l/Desktop/compalmtk/Dynamic-noise-AD-master/dataset/btad/one/train/good/0100.png\n"
     ]
    },
    {
     "data": {
      "application/vnd.jupyter.widget-view+json": {
       "model_id": "535143fb635d4507bc6152ba77d717d0",
       "version_major": 2,
       "version_minor": 0
      },
      "text/plain": [
       "  0%|          | 0/20 [00:00<?, ?it/s]"
      ]
     },
     "metadata": {},
     "output_type": "display_data"
    },
    {
     "data": {
      "application/vnd.jupyter.widget-view+json": {
       "model_id": "458760e208c54ea8adf8e955a32e0d90",
       "version_major": 2,
       "version_minor": 0
      },
      "text/plain": [
       "  0%|          | 0/20 [00:00<?, ?it/s]"
      ]
     },
     "metadata": {},
     "output_type": "display_data"
    },
    {
     "data": {
      "application/vnd.jupyter.widget-view+json": {
       "model_id": "3c3892e6f6a14f6883fba15af3a37f05",
       "version_major": 2,
       "version_minor": 0
      },
      "text/plain": [
       "  0%|          | 0/20 [00:00<?, ?it/s]"
      ]
     },
     "metadata": {},
     "output_type": "display_data"
    },
    {
     "data": {
      "application/vnd.jupyter.widget-view+json": {
       "model_id": "f0512dd42f30430d975fb2716a6a7a38",
       "version_major": 2,
       "version_minor": 0
      },
      "text/plain": [
       "  0%|          | 0/9 [00:00<?, ?it/s]"
      ]
     },
     "metadata": {},
     "output_type": "display_data"
    },
    {
     "data": {
      "application/vnd.jupyter.widget-view+json": {
       "model_id": "4100d743a51247ebb8771d930370fb96",
       "version_major": 2,
       "version_minor": 0
      },
      "text/plain": [
       "  0%|          | 0/20 [00:00<?, ?it/s]"
      ]
     },
     "metadata": {},
     "output_type": "display_data"
    },
    {
     "name": "stderr",
     "output_type": "stream",
     "text": [
      "2025-01-29 04:02:01,922 - INFO - Successfully processed: /home/anywhere3090l/Desktop/compalmtk/Dynamic-noise-AD-master/dataset/btad/one/train/good/0100.png\n",
      "2025-01-29 04:02:02,172 - INFO - Processing image 15/400: /home/anywhere3090l/Desktop/compalmtk/Dynamic-noise-AD-master/dataset/btad/one/train/good/0002.png\n"
     ]
    },
    {
     "data": {
      "application/vnd.jupyter.widget-view+json": {
       "model_id": "d5c1508c44f3446b93d3e0bb7ff09fbb",
       "version_major": 2,
       "version_minor": 0
      },
      "text/plain": [
       "  0%|          | 0/20 [00:00<?, ?it/s]"
      ]
     },
     "metadata": {},
     "output_type": "display_data"
    },
    {
     "data": {
      "application/vnd.jupyter.widget-view+json": {
       "model_id": "6e5dcf10f97d4bea812ef17200b286c7",
       "version_major": 2,
       "version_minor": 0
      },
      "text/plain": [
       "  0%|          | 0/20 [00:00<?, ?it/s]"
      ]
     },
     "metadata": {},
     "output_type": "display_data"
    },
    {
     "data": {
      "application/vnd.jupyter.widget-view+json": {
       "model_id": "5f9a3423410447419cffcf621595c6ad",
       "version_major": 2,
       "version_minor": 0
      },
      "text/plain": [
       "  0%|          | 0/20 [00:00<?, ?it/s]"
      ]
     },
     "metadata": {},
     "output_type": "display_data"
    },
    {
     "data": {
      "application/vnd.jupyter.widget-view+json": {
       "model_id": "1feda7aa6a6448e78023c7b9898cf3c6",
       "version_major": 2,
       "version_minor": 0
      },
      "text/plain": [
       "  0%|          | 0/9 [00:00<?, ?it/s]"
      ]
     },
     "metadata": {},
     "output_type": "display_data"
    },
    {
     "data": {
      "application/vnd.jupyter.widget-view+json": {
       "model_id": "456790d73411422984569210a49ef23f",
       "version_major": 2,
       "version_minor": 0
      },
      "text/plain": [
       "  0%|          | 0/20 [00:00<?, ?it/s]"
      ]
     },
     "metadata": {},
     "output_type": "display_data"
    },
    {
     "name": "stderr",
     "output_type": "stream",
     "text": [
      "2025-01-29 04:04:05,609 - INFO - Successfully processed: /home/anywhere3090l/Desktop/compalmtk/Dynamic-noise-AD-master/dataset/btad/one/train/good/0002.png\n",
      "2025-01-29 04:04:05,861 - INFO - Processing image 16/400: /home/anywhere3090l/Desktop/compalmtk/Dynamic-noise-AD-master/dataset/btad/one/train/good/0130.png\n"
     ]
    },
    {
     "data": {
      "application/vnd.jupyter.widget-view+json": {
       "model_id": "4f16ac80ac634f7ca5b03929dc3b0473",
       "version_major": 2,
       "version_minor": 0
      },
      "text/plain": [
       "  0%|          | 0/20 [00:00<?, ?it/s]"
      ]
     },
     "metadata": {},
     "output_type": "display_data"
    },
    {
     "data": {
      "application/vnd.jupyter.widget-view+json": {
       "model_id": "8351c4a77689419c95b2611418ebdac3",
       "version_major": 2,
       "version_minor": 0
      },
      "text/plain": [
       "  0%|          | 0/20 [00:00<?, ?it/s]"
      ]
     },
     "metadata": {},
     "output_type": "display_data"
    },
    {
     "data": {
      "application/vnd.jupyter.widget-view+json": {
       "model_id": "14ca01fcc280448ba55e5e31ace07279",
       "version_major": 2,
       "version_minor": 0
      },
      "text/plain": [
       "  0%|          | 0/20 [00:00<?, ?it/s]"
      ]
     },
     "metadata": {},
     "output_type": "display_data"
    },
    {
     "data": {
      "application/vnd.jupyter.widget-view+json": {
       "model_id": "78cf023926d848dcb17e494ce840d5ed",
       "version_major": 2,
       "version_minor": 0
      },
      "text/plain": [
       "  0%|          | 0/9 [00:00<?, ?it/s]"
      ]
     },
     "metadata": {},
     "output_type": "display_data"
    },
    {
     "data": {
      "application/vnd.jupyter.widget-view+json": {
       "model_id": "d07dae113e624143b2d05b0c50e33b8c",
       "version_major": 2,
       "version_minor": 0
      },
      "text/plain": [
       "  0%|          | 0/20 [00:00<?, ?it/s]"
      ]
     },
     "metadata": {},
     "output_type": "display_data"
    },
    {
     "name": "stderr",
     "output_type": "stream",
     "text": [
      "2025-01-29 04:06:10,948 - INFO - Successfully processed: /home/anywhere3090l/Desktop/compalmtk/Dynamic-noise-AD-master/dataset/btad/one/train/good/0130.png\n",
      "2025-01-29 04:06:11,195 - INFO - Processing image 17/400: /home/anywhere3090l/Desktop/compalmtk/Dynamic-noise-AD-master/dataset/btad/one/train/good/0389.png\n"
     ]
    },
    {
     "data": {
      "application/vnd.jupyter.widget-view+json": {
       "model_id": "e329ec32c3c64306becf549f90c1b046",
       "version_major": 2,
       "version_minor": 0
      },
      "text/plain": [
       "  0%|          | 0/20 [00:00<?, ?it/s]"
      ]
     },
     "metadata": {},
     "output_type": "display_data"
    },
    {
     "data": {
      "application/vnd.jupyter.widget-view+json": {
       "model_id": "7c8df702aeb44b7bb6b92476b62644ce",
       "version_major": 2,
       "version_minor": 0
      },
      "text/plain": [
       "  0%|          | 0/20 [00:00<?, ?it/s]"
      ]
     },
     "metadata": {},
     "output_type": "display_data"
    },
    {
     "data": {
      "application/vnd.jupyter.widget-view+json": {
       "model_id": "062834faf4fc4136831b8443c53bcb77",
       "version_major": 2,
       "version_minor": 0
      },
      "text/plain": [
       "  0%|          | 0/20 [00:00<?, ?it/s]"
      ]
     },
     "metadata": {},
     "output_type": "display_data"
    },
    {
     "data": {
      "application/vnd.jupyter.widget-view+json": {
       "model_id": "048c931682f846fcbeff79e8c81266f9",
       "version_major": 2,
       "version_minor": 0
      },
      "text/plain": [
       "  0%|          | 0/9 [00:00<?, ?it/s]"
      ]
     },
     "metadata": {},
     "output_type": "display_data"
    },
    {
     "data": {
      "application/vnd.jupyter.widget-view+json": {
       "model_id": "a202c73c8338470cb97417bb37a4cfbd",
       "version_major": 2,
       "version_minor": 0
      },
      "text/plain": [
       "  0%|          | 0/20 [00:00<?, ?it/s]"
      ]
     },
     "metadata": {},
     "output_type": "display_data"
    },
    {
     "name": "stderr",
     "output_type": "stream",
     "text": [
      "2025-01-29 04:08:15,997 - INFO - Successfully processed: /home/anywhere3090l/Desktop/compalmtk/Dynamic-noise-AD-master/dataset/btad/one/train/good/0389.png\n",
      "2025-01-29 04:08:16,245 - INFO - Processing image 18/400: /home/anywhere3090l/Desktop/compalmtk/Dynamic-noise-AD-master/dataset/btad/one/train/good/0061.png\n"
     ]
    },
    {
     "data": {
      "application/vnd.jupyter.widget-view+json": {
       "model_id": "cd5e7fbb3e5f4c07a8f7bbf5020e7342",
       "version_major": 2,
       "version_minor": 0
      },
      "text/plain": [
       "  0%|          | 0/20 [00:00<?, ?it/s]"
      ]
     },
     "metadata": {},
     "output_type": "display_data"
    },
    {
     "data": {
      "application/vnd.jupyter.widget-view+json": {
       "model_id": "4ce570c6224b4d7dbc29141416e8ca39",
       "version_major": 2,
       "version_minor": 0
      },
      "text/plain": [
       "  0%|          | 0/20 [00:00<?, ?it/s]"
      ]
     },
     "metadata": {},
     "output_type": "display_data"
    },
    {
     "data": {
      "application/vnd.jupyter.widget-view+json": {
       "model_id": "a22d861e9d854793a4c56002ab7f222f",
       "version_major": 2,
       "version_minor": 0
      },
      "text/plain": [
       "  0%|          | 0/20 [00:00<?, ?it/s]"
      ]
     },
     "metadata": {},
     "output_type": "display_data"
    },
    {
     "data": {
      "application/vnd.jupyter.widget-view+json": {
       "model_id": "c263850cdf234c14ad84f4dd5583c8e1",
       "version_major": 2,
       "version_minor": 0
      },
      "text/plain": [
       "  0%|          | 0/9 [00:00<?, ?it/s]"
      ]
     },
     "metadata": {},
     "output_type": "display_data"
    },
    {
     "data": {
      "application/vnd.jupyter.widget-view+json": {
       "model_id": "86f1407f74c74ea3b5301a0f4f04c21a",
       "version_major": 2,
       "version_minor": 0
      },
      "text/plain": [
       "  0%|          | 0/20 [00:00<?, ?it/s]"
      ]
     },
     "metadata": {},
     "output_type": "display_data"
    },
    {
     "name": "stderr",
     "output_type": "stream",
     "text": [
      "2025-01-29 04:10:20,841 - INFO - Successfully processed: /home/anywhere3090l/Desktop/compalmtk/Dynamic-noise-AD-master/dataset/btad/one/train/good/0061.png\n",
      "2025-01-29 04:10:21,086 - INFO - Processing image 19/400: /home/anywhere3090l/Desktop/compalmtk/Dynamic-noise-AD-master/dataset/btad/one/train/good/0059.png\n"
     ]
    },
    {
     "data": {
      "application/vnd.jupyter.widget-view+json": {
       "model_id": "40d5594ff40e48bb939ac2ebfb6c8034",
       "version_major": 2,
       "version_minor": 0
      },
      "text/plain": [
       "  0%|          | 0/20 [00:00<?, ?it/s]"
      ]
     },
     "metadata": {},
     "output_type": "display_data"
    },
    {
     "data": {
      "application/vnd.jupyter.widget-view+json": {
       "model_id": "3e23658cb5c84971bbaf181decc8bff3",
       "version_major": 2,
       "version_minor": 0
      },
      "text/plain": [
       "  0%|          | 0/20 [00:00<?, ?it/s]"
      ]
     },
     "metadata": {},
     "output_type": "display_data"
    },
    {
     "data": {
      "application/vnd.jupyter.widget-view+json": {
       "model_id": "499996182b8f4f778f0066c931256ce9",
       "version_major": 2,
       "version_minor": 0
      },
      "text/plain": [
       "  0%|          | 0/20 [00:00<?, ?it/s]"
      ]
     },
     "metadata": {},
     "output_type": "display_data"
    },
    {
     "data": {
      "application/vnd.jupyter.widget-view+json": {
       "model_id": "0771cb3948b844aeaaca3642554f6e94",
       "version_major": 2,
       "version_minor": 0
      },
      "text/plain": [
       "  0%|          | 0/9 [00:00<?, ?it/s]"
      ]
     },
     "metadata": {},
     "output_type": "display_data"
    },
    {
     "data": {
      "application/vnd.jupyter.widget-view+json": {
       "model_id": "8b5eb0d607ec4ab6a29d24c350b741ed",
       "version_major": 2,
       "version_minor": 0
      },
      "text/plain": [
       "  0%|          | 0/20 [00:00<?, ?it/s]"
      ]
     },
     "metadata": {},
     "output_type": "display_data"
    },
    {
     "name": "stderr",
     "output_type": "stream",
     "text": [
      "2025-01-29 04:12:25,942 - INFO - Successfully processed: /home/anywhere3090l/Desktop/compalmtk/Dynamic-noise-AD-master/dataset/btad/one/train/good/0059.png\n",
      "2025-01-29 04:12:26,188 - INFO - Processing image 20/400: /home/anywhere3090l/Desktop/compalmtk/Dynamic-noise-AD-master/dataset/btad/one/train/good/0309.png\n"
     ]
    },
    {
     "data": {
      "application/vnd.jupyter.widget-view+json": {
       "model_id": "96c660e24ced4145a598a5e2677857e1",
       "version_major": 2,
       "version_minor": 0
      },
      "text/plain": [
       "  0%|          | 0/20 [00:00<?, ?it/s]"
      ]
     },
     "metadata": {},
     "output_type": "display_data"
    },
    {
     "data": {
      "application/vnd.jupyter.widget-view+json": {
       "model_id": "176e102be69e4af1b25687ab73a70e83",
       "version_major": 2,
       "version_minor": 0
      },
      "text/plain": [
       "  0%|          | 0/20 [00:00<?, ?it/s]"
      ]
     },
     "metadata": {},
     "output_type": "display_data"
    },
    {
     "data": {
      "application/vnd.jupyter.widget-view+json": {
       "model_id": "86e634eff9014c7b8f446d345dc8abd3",
       "version_major": 2,
       "version_minor": 0
      },
      "text/plain": [
       "  0%|          | 0/20 [00:00<?, ?it/s]"
      ]
     },
     "metadata": {},
     "output_type": "display_data"
    },
    {
     "data": {
      "application/vnd.jupyter.widget-view+json": {
       "model_id": "6ba6221b07bb484ea728f12ee789975c",
       "version_major": 2,
       "version_minor": 0
      },
      "text/plain": [
       "  0%|          | 0/9 [00:00<?, ?it/s]"
      ]
     },
     "metadata": {},
     "output_type": "display_data"
    },
    {
     "data": {
      "application/vnd.jupyter.widget-view+json": {
       "model_id": "cb36446e192c4206a5f39a9246f293b5",
       "version_major": 2,
       "version_minor": 0
      },
      "text/plain": [
       "  0%|          | 0/20 [00:00<?, ?it/s]"
      ]
     },
     "metadata": {},
     "output_type": "display_data"
    },
    {
     "name": "stderr",
     "output_type": "stream",
     "text": [
      "2025-01-29 04:14:33,254 - INFO - Successfully processed: /home/anywhere3090l/Desktop/compalmtk/Dynamic-noise-AD-master/dataset/btad/one/train/good/0309.png\n",
      "2025-01-29 04:14:33,504 - INFO - Processing image 21/400: /home/anywhere3090l/Desktop/compalmtk/Dynamic-noise-AD-master/dataset/btad/one/train/good/0050.png\n"
     ]
    },
    {
     "data": {
      "application/vnd.jupyter.widget-view+json": {
       "model_id": "2d9c182b7d1344e5978b4fe71726defc",
       "version_major": 2,
       "version_minor": 0
      },
      "text/plain": [
       "  0%|          | 0/20 [00:00<?, ?it/s]"
      ]
     },
     "metadata": {},
     "output_type": "display_data"
    },
    {
     "data": {
      "application/vnd.jupyter.widget-view+json": {
       "model_id": "6fce619378a34665b4dcfa2995a89a5c",
       "version_major": 2,
       "version_minor": 0
      },
      "text/plain": [
       "  0%|          | 0/20 [00:00<?, ?it/s]"
      ]
     },
     "metadata": {},
     "output_type": "display_data"
    },
    {
     "data": {
      "application/vnd.jupyter.widget-view+json": {
       "model_id": "bc6491ee67de47b8a768074b46632f01",
       "version_major": 2,
       "version_minor": 0
      },
      "text/plain": [
       "  0%|          | 0/20 [00:00<?, ?it/s]"
      ]
     },
     "metadata": {},
     "output_type": "display_data"
    },
    {
     "data": {
      "application/vnd.jupyter.widget-view+json": {
       "model_id": "147b32d4c77045228548ddc9fcbbb674",
       "version_major": 2,
       "version_minor": 0
      },
      "text/plain": [
       "  0%|          | 0/9 [00:00<?, ?it/s]"
      ]
     },
     "metadata": {},
     "output_type": "display_data"
    },
    {
     "data": {
      "application/vnd.jupyter.widget-view+json": {
       "model_id": "7c21e05adb674e5182bd1c7be3a79e23",
       "version_major": 2,
       "version_minor": 0
      },
      "text/plain": [
       "  0%|          | 0/20 [00:00<?, ?it/s]"
      ]
     },
     "metadata": {},
     "output_type": "display_data"
    },
    {
     "name": "stderr",
     "output_type": "stream",
     "text": [
      "2025-01-29 04:16:40,030 - INFO - Successfully processed: /home/anywhere3090l/Desktop/compalmtk/Dynamic-noise-AD-master/dataset/btad/one/train/good/0050.png\n",
      "2025-01-29 04:16:40,278 - INFO - Processing image 22/400: /home/anywhere3090l/Desktop/compalmtk/Dynamic-noise-AD-master/dataset/btad/one/train/good/0196.png\n"
     ]
    },
    {
     "data": {
      "application/vnd.jupyter.widget-view+json": {
       "model_id": "b4e26eb12a91417381e8940eb4f1b83f",
       "version_major": 2,
       "version_minor": 0
      },
      "text/plain": [
       "  0%|          | 0/20 [00:00<?, ?it/s]"
      ]
     },
     "metadata": {},
     "output_type": "display_data"
    },
    {
     "data": {
      "application/vnd.jupyter.widget-view+json": {
       "model_id": "003801ccc8fb4f47b5bfdd7244675d88",
       "version_major": 2,
       "version_minor": 0
      },
      "text/plain": [
       "  0%|          | 0/20 [00:00<?, ?it/s]"
      ]
     },
     "metadata": {},
     "output_type": "display_data"
    },
    {
     "data": {
      "application/vnd.jupyter.widget-view+json": {
       "model_id": "a8b3561d4b454458b42ab35726999757",
       "version_major": 2,
       "version_minor": 0
      },
      "text/plain": [
       "  0%|          | 0/20 [00:00<?, ?it/s]"
      ]
     },
     "metadata": {},
     "output_type": "display_data"
    },
    {
     "data": {
      "application/vnd.jupyter.widget-view+json": {
       "model_id": "d1d81243dcbe4b609dff2ee76f233ef9",
       "version_major": 2,
       "version_minor": 0
      },
      "text/plain": [
       "  0%|          | 0/9 [00:00<?, ?it/s]"
      ]
     },
     "metadata": {},
     "output_type": "display_data"
    },
    {
     "data": {
      "application/vnd.jupyter.widget-view+json": {
       "model_id": "40fa7962bfcd4d989b55265e873d6f1c",
       "version_major": 2,
       "version_minor": 0
      },
      "text/plain": [
       "  0%|          | 0/20 [00:00<?, ?it/s]"
      ]
     },
     "metadata": {},
     "output_type": "display_data"
    },
    {
     "name": "stderr",
     "output_type": "stream",
     "text": [
      "2025-01-29 04:18:46,270 - INFO - Successfully processed: /home/anywhere3090l/Desktop/compalmtk/Dynamic-noise-AD-master/dataset/btad/one/train/good/0196.png\n",
      "2025-01-29 04:18:46,523 - INFO - Processing image 23/400: /home/anywhere3090l/Desktop/compalmtk/Dynamic-noise-AD-master/dataset/btad/one/train/good/0174.png\n"
     ]
    },
    {
     "data": {
      "application/vnd.jupyter.widget-view+json": {
       "model_id": "685e930082554d64b635d7fb65dbcee5",
       "version_major": 2,
       "version_minor": 0
      },
      "text/plain": [
       "  0%|          | 0/20 [00:00<?, ?it/s]"
      ]
     },
     "metadata": {},
     "output_type": "display_data"
    },
    {
     "data": {
      "application/vnd.jupyter.widget-view+json": {
       "model_id": "9422ba71de5e4aa9a33e48ae2bbf482c",
       "version_major": 2,
       "version_minor": 0
      },
      "text/plain": [
       "  0%|          | 0/20 [00:00<?, ?it/s]"
      ]
     },
     "metadata": {},
     "output_type": "display_data"
    },
    {
     "data": {
      "application/vnd.jupyter.widget-view+json": {
       "model_id": "7c8aa265ac6941cc880d3eb6e6b4721d",
       "version_major": 2,
       "version_minor": 0
      },
      "text/plain": [
       "  0%|          | 0/20 [00:00<?, ?it/s]"
      ]
     },
     "metadata": {},
     "output_type": "display_data"
    },
    {
     "data": {
      "application/vnd.jupyter.widget-view+json": {
       "model_id": "34b19b4835a84257a82dad4e126b5197",
       "version_major": 2,
       "version_minor": 0
      },
      "text/plain": [
       "  0%|          | 0/9 [00:00<?, ?it/s]"
      ]
     },
     "metadata": {},
     "output_type": "display_data"
    },
    {
     "data": {
      "application/vnd.jupyter.widget-view+json": {
       "model_id": "bfd6567a975448018a0d71913c8eba89",
       "version_major": 2,
       "version_minor": 0
      },
      "text/plain": [
       "  0%|          | 0/20 [00:00<?, ?it/s]"
      ]
     },
     "metadata": {},
     "output_type": "display_data"
    }
   ],
   "source": [
    "import os\n",
    "from pathlib import Path\n",
    "import logging\n",
    "import torch\n",
    "from PIL import Image, ImageEnhance\n",
    "import numpy as np\n",
    "import torchvision.transforms as T\n",
    "from torchvision.transforms import InterpolationMode\n",
    "import gc\n",
    "from diffusers import StableDiffusionUpscalePipeline, StableDiffusionImg2ImgPipeline\n",
    "from torch.cuda.amp import autocast\n",
    "from contextlib import nullcontext\n",
    "import random\n",
    "import warnings\n",
    "\n",
    "warnings.filterwarnings(\"ignore\")\n",
    "\n",
    "def is_valid_image(image: Image.Image, threshold: float = 30.0) -> bool:\n",
    "    \"\"\"Check if image is valid (not too dark or too small)\"\"\"\n",
    "    if image is None:\n",
    "        return False\n",
    "        \n",
    "    # Convert to grayscale and calculate mean brightness\n",
    "    gray = image.convert('L')\n",
    "    brightness = np.mean(np.array(gray))\n",
    "    \n",
    "    # Check brightness and size\n",
    "    if brightness < threshold or image.size[0] < 32 or image.size[1] < 32:\n",
    "        return False\n",
    "        \n",
    "    return True\n",
    "\n",
    "class ImageAugmentor:\n",
    "    @staticmethod\n",
    "    def apply_color_transforms(image: Image.Image) -> Image.Image:\n",
    "        \"\"\"Apply color adjustments\"\"\"\n",
    "        try:\n",
    "            # Enhance contrast\n",
    "            contrast = ImageEnhance.Contrast(image)\n",
    "            image = contrast.enhance(1.2)\n",
    "            \n",
    "            # Enhance brightness\n",
    "            brightness = ImageEnhance.Brightness(image)\n",
    "            image = brightness.enhance(1.1)\n",
    "            \n",
    "            return image\n",
    "        except Exception as e:\n",
    "            logging.error(f\"Color transform error: {str(e)}\")\n",
    "            return image\n",
    "\n",
    "    @staticmethod\n",
    "    def apply_geometric_transforms(image: Image.Image) -> Image.Image:\n",
    "        \"\"\"Apply geometric transformations\"\"\"\n",
    "        try:\n",
    "            transform = T.Compose([\n",
    "                T.RandomAffine(\n",
    "                    degrees=15,\n",
    "                    translate=(0.1, 0.1),\n",
    "                    scale=(0.9, 1.1),\n",
    "                    interpolation=InterpolationMode.BILINEAR,\n",
    "                    fill=255\n",
    "                ),\n",
    "                T.RandomPerspective(\n",
    "                    distortion_scale=0.2,\n",
    "                    p=0.5,\n",
    "                    fill=255\n",
    "                )\n",
    "            ])\n",
    "            \n",
    "            img_tensor = T.ToTensor()(image)\n",
    "            augmented = transform(img_tensor)\n",
    "            return T.ToPILImage()(augmented)\n",
    "        except Exception as e:\n",
    "            logging.error(f\"Geometric transform error: {str(e)}\")\n",
    "            return image\n",
    "\n",
    "class ImageProcessor:\n",
    "    def __init__(self):\n",
    "        self.device = \"cuda\" if torch.cuda.is_available() else \"cpu\"\n",
    "        self.models = {\n",
    "            \"sd\": None,\n",
    "            \"upscaler\": None\n",
    "        }\n",
    "\n",
    "    def _load_model(self, model_type: str) -> bool:\n",
    "        \"\"\"Load model\"\"\"\n",
    "        if self.models[model_type] is not None:\n",
    "            return True\n",
    "\n",
    "        try:\n",
    "            if model_type == \"sd\":\n",
    "                model = StableDiffusionImg2ImgPipeline.from_pretrained(\n",
    "                    \"runwayml/stable-diffusion-v1-5\",\n",
    "                    torch_dtype=torch.float16 if self.device == \"cuda\" else torch.float32,\n",
    "                    variant=\"fp16\",\n",
    "                    safety_checker=None\n",
    "                )\n",
    "            else:\n",
    "                model = StableDiffusionUpscalePipeline.from_pretrained(\n",
    "                    \"stabilityai/stable-diffusion-x4-upscaler\",\n",
    "                    torch_dtype=torch.float16 if self.device == \"cuda\" else torch.float32,\n",
    "                    variant=\"fp16\",\n",
    "                    safety_checker=None\n",
    "                )\n",
    "\n",
    "            model.to(self.device)\n",
    "            if self.device == \"cuda\":\n",
    "                model.enable_attention_slicing()\n",
    "                model.enable_vae_slicing()\n",
    "\n",
    "            self.models[model_type] = model\n",
    "            return True\n",
    "        except Exception as e:\n",
    "            logging.error(f\"Failed to load {model_type} model: {str(e)}\")\n",
    "            return False\n",
    "\n",
    "    def preprocess_image(self, image: Image.Image) -> Image.Image:\n",
    "        \"\"\"Preprocess image for model input\"\"\"\n",
    "        if max(image.size) > 512:\n",
    "            image = image.resize((512, 512), Image.LANCZOS)\n",
    "        return image\n",
    "\n",
    "    @torch.no_grad()\n",
    "    def upscale_image(self, image: Image.Image) -> Image.Image:\n",
    "        \"\"\"Upscale image using SD upscaler\"\"\"\n",
    "        try:\n",
    "            with autocast() if self.device == \"cuda\" else nullcontext():\n",
    "                result = self.models[\"upscaler\"](\n",
    "                    prompt=\"high quality photo, sharp details\",\n",
    "                    image=image,\n",
    "                    noise_level=20,\n",
    "                    num_inference_steps=20\n",
    "                ).images[0]\n",
    "                \n",
    "            if is_valid_image(result):\n",
    "                return result\n",
    "            return image\n",
    "        except Exception as e:\n",
    "            logging.error(f\"Upscaling error: {str(e)}\")\n",
    "            return image\n",
    "\n",
    "    @torch.no_grad()\n",
    "    def apply_stable_diffusion(self, image: Image.Image) -> Image.Image:\n",
    "        \"\"\"Apply Stable Diffusion augmentation\"\"\"\n",
    "        try:\n",
    "            with autocast() if self.device == \"cuda\" else nullcontext():\n",
    "                result = self.models[\"sd\"](\n",
    "                    prompt=\"high quality photo, same as input, sharp, clear details\",\n",
    "                    image=image,\n",
    "                    strength=0.3,\n",
    "                    guidance_scale=7.5,\n",
    "                    num_inference_steps=30,\n",
    "                    negative_prompt=\"blur, dark, black, deformed, bad quality\"\n",
    "                ).images[0]\n",
    "                \n",
    "            if is_valid_image(result):\n",
    "                return result\n",
    "            return image\n",
    "        except Exception as e:\n",
    "            logging.error(f\"SD augmentation error: {str(e)}\")\n",
    "            return image\n",
    "\n",
    "    def process_single_image(self, input_path: Path, output_dir: Path) -> bool:\n",
    "        \"\"\"Process a single image according to the workflow\"\"\"\n",
    "        try:\n",
    "            # Create output subdirectory using input filename\n",
    "            image_output_dir = output_dir / input_path.stem\n",
    "            image_output_dir.mkdir(parents=True, exist_ok=True)\n",
    "            \n",
    "            # Load and preprocess image\n",
    "            img = Image.open(input_path).convert('RGB')\n",
    "            if not is_valid_image(img):\n",
    "                logging.warning(f\"Skipping invalid image: {input_path}\")\n",
    "                return False\n",
    "                \n",
    "            img = self.preprocess_image(img)\n",
    "            \n",
    "            # Save original\n",
    "            img.save(image_output_dir / \"1_original.png\")\n",
    "            \n",
    "            # Original -> Upscale\n",
    "            if self._load_model(\"upscaler\"):\n",
    "                upscaled = self.upscale_image(img)\n",
    "                upscaled.save(image_output_dir / \"2_original_upscaled.png\")\n",
    "            \n",
    "            # Color aug -> Upscale\n",
    "            color_aug = ImageAugmentor.apply_color_transforms(img)\n",
    "            if self._load_model(\"upscaler\"):\n",
    "                color_upscaled = self.upscale_image(color_aug)\n",
    "                color_upscaled.save(image_output_dir / \"3_color_upscaled.png\")\n",
    "            \n",
    "            # Geometric aug -> Upscale\n",
    "            geometric_aug = ImageAugmentor.apply_geometric_transforms(img)\n",
    "            if self._load_model(\"upscaler\"):\n",
    "                geometric_upscaled = self.upscale_image(geometric_aug)\n",
    "                geometric_upscaled.save(image_output_dir / \"4_geometric_upscaled.png\")\n",
    "            \n",
    "            # SD aug -> Upscale\n",
    "            if self._load_model(\"sd\"):\n",
    "                sd_aug = self.apply_stable_diffusion(img)\n",
    "                if self._load_model(\"upscaler\"):\n",
    "                    sd_upscaled = self.upscale_image(sd_aug)\n",
    "                    sd_upscaled.save(image_output_dir / \"5_sd_upscaled.png\")\n",
    "            \n",
    "            logging.info(f\"Successfully processed: {input_path}\")\n",
    "            return True\n",
    "            \n",
    "        except Exception as e:\n",
    "            logging.error(f\"Error processing {input_path}: {str(e)}\")\n",
    "            return False\n",
    "            \n",
    "        finally:\n",
    "            gc.collect()\n",
    "            if torch.cuda.is_available():\n",
    "                torch.cuda.empty_cache()\n",
    "\n",
    "def reorganize_output(output_path: Path, final_output_path: Path):\n",
    "    \"\"\"Reorganize and rename all processed images\"\"\"\n",
    "    # Create final output directory\n",
    "    final_output_path.mkdir(parents=True, exist_ok=True)\n",
    "    \n",
    "    # Collect all processed images\n",
    "    all_images = []\n",
    "    for subdir in output_path.glob(\"*\"):\n",
    "        if subdir.is_dir():\n",
    "            all_images.extend(sorted(subdir.glob(\"*.png\")))\n",
    "    \n",
    "    # Sort images to ensure consistent ordering\n",
    "    all_images.sort()\n",
    "    \n",
    "    # Copy and rename files\n",
    "    for idx, src_path in enumerate(all_images):\n",
    "        dst_path = final_output_path / f\"{idx:03d}.png\"\n",
    "        try:\n",
    "            shutil.copy2(src_path, dst_path)\n",
    "        except Exception as e:\n",
    "            logging.error(f\"Failed to copy file {src_path}: {str(e)}\")\n",
    "    \n",
    "    logging.info(f\"Reorganized {len(all_images)} images to {final_output_path}\")\n",
    "\n",
    "def process_directory(input_dir: str, output_dir: str, final_dir: str):\n",
    "    \"\"\"Process all images in directory\"\"\"\n",
    "    input_path = Path(input_dir)\n",
    "    output_path = Path(output_dir)\n",
    "    final_output_path = Path(final_dir)\n",
    "    \n",
    "    # Create output directory\n",
    "    output_path.mkdir(parents=True, exist_ok=True)\n",
    "    \n",
    "    # Get all PNG files\n",
    "    image_files = list(input_path.glob(\"*.png\"))\n",
    "    total_files = len(image_files)\n",
    "    \n",
    "    if total_files == 0:\n",
    "        logging.warning(f\"No PNG files found in {input_dir}\")\n",
    "        return\n",
    "    \n",
    "    logging.info(f\"Found {total_files} PNG files to process\")\n",
    "    \n",
    "    # Process images\n",
    "    processor = ImageProcessor()\n",
    "    success_count = 0\n",
    "    \n",
    "    for idx, image_path in enumerate(image_files, 1):\n",
    "        logging.info(f\"Processing image {idx}/{total_files}: {image_path}\")\n",
    "        if processor.process_single_image(image_path, output_path):\n",
    "            success_count += 1\n",
    "    \n",
    "    success_rate = (success_count / total_files) * 100\n",
    "    logging.info(f\"\\nProcessing complete!\")\n",
    "    logging.info(f\"Success rate: {success_rate:.1f}% ({success_count}/{total_files})\")\n",
    "    \n",
    "    # Reorganize files\n",
    "    reorganize_output(output_path, final_output_path)\n",
    "\n",
    "def main():\n",
    "    # Set up logging\n",
    "    logging.basicConfig(\n",
    "        level=logging.INFO,\n",
    "        format='%(asctime)s - %(levelname)s - %(message)s',\n",
    "        handlers=[\n",
    "            logging.StreamHandler(),\n",
    "            logging.FileHandler('augmentation.log')\n",
    "        ]\n",
    "    )\n",
    "    \n",
    "    # Set random seeds\n",
    "    random.seed(42)\n",
    "    np.random.seed(42)\n",
    "    torch.manual_seed(42)\n",
    "    if torch.cuda.is_available():\n",
    "        torch.cuda.manual_seed_all(42)\n",
    "    \n",
    "    # 設定目錄 - 只需要輸入和輸出兩個目錄\n",
    "    input_dir = \"/home/anywhere3090l/Desktop/compalmtk/Dynamic-noise-AD-master/dataset/btad/one/train/good\"  # 輸入目錄\n",
    "    output_dir = \"/home/anywhere3090l/Desktop/compalmtk/Dynamic-noise-AD-master/dataset/btad/newone/train/good\"  # 輸出目錄\n",
    "    \n",
    "    # 在輸出目錄下創建臨時子目錄\n",
    "    temp_dir = Path(output_dir) / \"temp\"\n",
    "    final_dir = Path(output_dir)\n",
    "    \n",
    "    # 處理圖片並重組輸出\n",
    "    process_directory(input_dir, temp_dir, final_dir)\n",
    "    \n",
    "    # 清理臨時目錄\n",
    "    try:\n",
    "        shutil.rmtree(temp_dir)\n",
    "        logging.info(f\"Cleaned up temporary directory: {temp_dir}\")\n",
    "    except Exception as e:\n",
    "        logging.error(f\"Failed to clean up temporary directory: {str(e)}\")\n",
    "\n",
    "if __name__ == \"__main__\":\n",
    "    main()"
   ]
  }
 ],
 "metadata": {
  "kernelspec": {
   "display_name": "base",
   "language": "python",
   "name": "python3"
  },
  "language_info": {
   "codemirror_mode": {
    "name": "ipython",
    "version": 3
   },
   "file_extension": ".py",
   "mimetype": "text/x-python",
   "name": "python",
   "nbconvert_exporter": "python",
   "pygments_lexer": "ipython3",
   "version": "3.11.11"
  }
 },
 "nbformat": 4,
 "nbformat_minor": 2
}
